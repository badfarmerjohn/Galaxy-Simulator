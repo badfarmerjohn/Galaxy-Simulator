{
 "cells": [
  {
   "cell_type": "code",
   "execution_count": 3,
   "metadata": {},
   "outputs": [],
   "source": [
    "import matplotlib.pyplot as plt\n",
    "import numpy as np\n",
    "\n",
    "particle_nums = np.array([125,250,500,1000,2000,4000,8000,16000,32000,64000])\n",
    "naive_fps = [136,94,5,1.3,0,0,0,0,0,0]\n",
    "hashing_fps = [140,131,125,122,118,112,105,95,80,30]\n",
    "circle_fps = [141,134,126,121,117,110,101,89,65,9]"
   ]
  },
  {
   "cell_type": "code",
   "execution_count": 10,
   "metadata": {},
   "outputs": [],
   "source": [
    "fig, ax = plt.subplots()\n",
    "ax.plot(particle_nums, naive_fps, \"o\")\n",
    "ax.plot(particle_nums, circle_fps, \"o\")\n",
    "ax.plot(particle_nums, hashing_fps, \"o\")\n",
    "ax.set(xlabel = \"num particles\", ylabel = \"fps\", title = \"all algorithms\")\n",
    "ax.legend([\"naive\", \"circle\", \"hashing\"])\n",
    "ax.grid()\n",
    "plt.xscale(\"Log\")\n",
    "fig.savefig(\"all3.png\")\n",
    "plt.show()"
   ]
  },
  {
   "cell_type": "code",
   "execution_count": null,
   "metadata": {},
   "outputs": [],
   "source": []
  }
 ],
 "metadata": {
  "kernelspec": {
   "display_name": "Python 3",
   "language": "python",
   "name": "python3"
  },
  "language_info": {
   "codemirror_mode": {
    "name": "ipython",
    "version": 3
   },
   "file_extension": ".py",
   "mimetype": "text/x-python",
   "name": "python",
   "nbconvert_exporter": "python",
   "pygments_lexer": "ipython3",
   "version": "3.7.3"
  }
 },
 "nbformat": 4,
 "nbformat_minor": 2
}
